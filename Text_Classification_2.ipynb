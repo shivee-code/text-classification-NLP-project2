{
  "nbformat": 4,
  "nbformat_minor": 0,
  "metadata": {
    "colab": {
      "provenance": []
    },
    "kernelspec": {
      "name": "python3",
      "display_name": "Python 3"
    },
    "language_info": {
      "name": "python"
    }
  },
  "cells": [
    {
      "cell_type": "markdown",
      "source": [
        "## **1: Data Exploration**"
      ],
      "metadata": {
        "id": "ECtdr9elKl3B"
      }
    },
    {
      "cell_type": "code",
      "execution_count": 2,
      "metadata": {
        "colab": {
          "base_uri": "https://localhost:8080/"
        },
        "id": "FtO1Zty1Jnmc",
        "outputId": "5d341331-d2c8-4515-bf2f-ab7ae1e9d34f"
      },
      "outputs": [
        {
          "output_type": "stream",
          "name": "stdout",
          "text": [
            "                                                text     label\n",
            "0                 I loved the product, it's amazing!  positive\n",
            "1    Terrible service, I will never shop here again.  negative\n",
            "2    The quality is good, but the delivery was late.   neutral\n",
            "3  Absolutely wonderful experience, highly recomm...  positive\n",
            "4  Product was damaged when it arrived, very disa...  negative\n",
            "Total rows: 8\n",
            "Unique labels: 3 - ['positive' 'negative' 'neutral']\n",
            "text     0\n",
            "label    0\n",
            "dtype: int64\n"
          ]
        }
      ],
      "source": [
        "import pandas as pd\n",
        "\n",
        "# Load dataset\n",
        "df = pd.read_csv(\"text_class - text_class.csv\")\n",
        "\n",
        "# Display first 5 rows\n",
        "print(df.head())\n",
        "\n",
        "# Total number of rows and unique labels\n",
        "print(f\"Total rows: {len(df)}\")\n",
        "print(f\"Unique labels: {df['label'].nunique()} - {df['label'].unique()}\")\n",
        "\n",
        "# Check for missing values\n",
        "print(df.isnull().sum())\n"
      ]
    },
    {
      "cell_type": "markdown",
      "source": [
        "**Explanation:**\n",
        "We first load the dataset and inspect the top 5 rows. We then check how many entries exist and how many unique classification labels are present. A check for missing data is a necessary step before preprocessing.\n"
      ],
      "metadata": {
        "id": "0pGm72UbQjsZ"
      }
    },
    {
      "cell_type": "markdown",
      "source": [
        "**2: Preprocessing Text Data**"
      ],
      "metadata": {
        "id": "gpgWwU5SKqYW"
      }
    },
    {
      "cell_type": "code",
      "source": [
        "import re\n",
        "import nltk\n",
        "from nltk.corpus import stopwords\n",
        "from nltk.tokenize import word_tokenize\n",
        "\n",
        "# Download stopwords and punkt if not already\n",
        "nltk.download('punkt')\n",
        "nltk.download('stopwords')\n",
        "# Download punkt_tab as suggested by the error message\n",
        "nltk.download('punkt_tab')\n",
        "\n",
        "stop_words = set(stopwords.words('english'))\n",
        "\n",
        "def preprocess(text):\n",
        "    text = text.lower()  # Lowercase\n",
        "    text = re.sub(r'[^a-z\\s]', '', text)  # Remove punctuation and special chars\n",
        "    tokens = word_tokenize(text)  # Tokenize\n",
        "    tokens = [word for word in tokens if word not in stop_words]  # Remove stopwords\n",
        "    return ' '.join(tokens)\n",
        "\n",
        "# Apply preprocessing\n",
        "df['processed_text'] = df['text'].apply(preprocess)\n",
        "\n",
        "# Show processed version of first 5 rows\n",
        "print(df[['text', 'processed_text']].head())\n"
      ],
      "metadata": {
        "colab": {
          "base_uri": "https://localhost:8080/"
        },
        "id": "gfxZ5N4NJo4v",
        "outputId": "5309df69-1639-4d70-b851-4292978acf0b"
      },
      "execution_count": 4,
      "outputs": [
        {
          "output_type": "stream",
          "name": "stderr",
          "text": [
            "[nltk_data] Downloading package punkt to /root/nltk_data...\n",
            "[nltk_data]   Package punkt is already up-to-date!\n",
            "[nltk_data] Downloading package stopwords to /root/nltk_data...\n",
            "[nltk_data]   Package stopwords is already up-to-date!\n",
            "[nltk_data] Downloading package punkt_tab to /root/nltk_data...\n",
            "[nltk_data]   Unzipping tokenizers/punkt_tab.zip.\n"
          ]
        },
        {
          "output_type": "stream",
          "name": "stdout",
          "text": [
            "                                                text  \\\n",
            "0                 I loved the product, it's amazing!   \n",
            "1    Terrible service, I will never shop here again.   \n",
            "2    The quality is good, but the delivery was late.   \n",
            "3  Absolutely wonderful experience, highly recomm...   \n",
            "4  Product was damaged when it arrived, very disa...   \n",
            "\n",
            "                                     processed_text  \n",
            "0                             loved product amazing  \n",
            "1                       terrible service never shop  \n",
            "2                        quality good delivery late  \n",
            "3  absolutely wonderful experience highly recommend  \n",
            "4              product damaged arrived disappointed  \n"
          ]
        }
      ]
    },
    {
      "cell_type": "markdown",
      "source": [
        "**Explanation:**\n",
        "We convert all text to lowercase, remove punctuation and special characters using regex, tokenize it into words, and remove common stopwords using NLTK."
      ],
      "metadata": {
        "id": "3OjkNlWWRbLg"
      }
    },
    {
      "cell_type": "markdown",
      "source": [
        "**3: Train a Classifier**"
      ],
      "metadata": {
        "id": "sETxFEiSLS6T"
      }
    },
    {
      "cell_type": "code",
      "source": [
        "from sklearn.model_selection import train_test_split\n",
        "from sklearn.feature_extraction.text import TfidfVectorizer\n",
        "from sklearn.linear_model import LogisticRegression\n",
        "from sklearn.metrics import accuracy_score\n",
        "\n",
        "# Vectorize the processed text\n",
        "vectorizer = TfidfVectorizer()\n",
        "X = vectorizer.fit_transform(df['processed_text'])\n",
        "y = df['label']\n",
        "\n",
        "# Split data\n",
        "X_train, X_test, y_train, y_test = train_test_split(X, y, test_size=0.2, random_state=42)\n",
        "\n",
        "# Train Logistic Regression\n",
        "clf = LogisticRegression()\n",
        "clf.fit(X_train, y_train)\n",
        "\n",
        "# Predict and calculate accuracy\n",
        "y_pred = clf.predict(X_test)\n",
        "acc = accuracy_score(y_test, y_pred)\n",
        "print(f\"Accuracy: {acc:.2f}\")\n"
      ],
      "metadata": {
        "colab": {
          "base_uri": "https://localhost:8080/"
        },
        "id": "FvaIOK9gK3sY",
        "outputId": "824b8392-8a54-48c7-c456-8a70ffecd9ee"
      },
      "execution_count": 5,
      "outputs": [
        {
          "output_type": "stream",
          "name": "stdout",
          "text": [
            "Accuracy: 0.50\n"
          ]
        }
      ]
    },
    {
      "cell_type": "markdown",
      "source": [
        "**Explanation:**\n",
        "We convert the processed text to numerical features using TF-IDF, then train a Logistic Regression classifier on the training set and evaluate accuracy on the test set."
      ],
      "metadata": {
        "id": "JfwoiiDURlc8"
      }
    },
    {
      "cell_type": "markdown",
      "source": [
        "**4: Evaluate the Model**"
      ],
      "metadata": {
        "id": "NRxPQFB4Laxy"
      }
    },
    {
      "cell_type": "code",
      "source": [
        "from sklearn.metrics import confusion_matrix, ConfusionMatrixDisplay\n",
        "import matplotlib.pyplot as plt\n",
        "\n",
        "# Confusion Matrix\n",
        "cm = confusion_matrix(y_test, y_pred, labels=clf.classes_)\n",
        "disp = ConfusionMatrixDisplay(confusion_matrix=cm, display_labels=clf.classes_)\n",
        "disp.plot(cmap='Blues')\n",
        "plt.title(\"Confusion Matrix\")\n",
        "plt.show()\n"
      ],
      "metadata": {
        "colab": {
          "base_uri": "https://localhost:8080/",
          "height": 472
        },
        "id": "C4L7Um_ELZI8",
        "outputId": "76dca3a1-b389-4318-aa78-64c8a6e9406f"
      },
      "execution_count": 6,
      "outputs": [
        {
          "output_type": "display_data",
          "data": {
            "text/plain": [
              "<Figure size 640x480 with 2 Axes>"
            ],
            "image/png": "[encoded data removed]"
          },
          "metadata": {}
        }
      ]
    },
    {
      "cell_type": "markdown",
      "source": [
        "**Explanation:**\n",
        "The confusion matrix helps us understand how many samples were correctly and incorrectly classified. It’s especially useful for analyzing which labels are being confused with others."
      ],
      "metadata": {
        "id": "de1bbW40RuIy"
      }
    }
  ]
}